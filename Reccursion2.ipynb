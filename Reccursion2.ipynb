{
 "cells": [
  {
   "cell_type": "code",
   "execution_count": 1,
   "metadata": {},
   "outputs": [
    {
     "name": "stdout",
     "output_type": "stream",
     "text": [
      "enter a number6\n",
      "enter lower limit60\n",
      "enter a upper limit65\n",
      "count of digit is  5\n"
     ]
    }
   ],
   "source": [
    "count=0\n",
    "def digits(n,x):\n",
    "    c=n%10\n",
    "    n=(n-c)//10\n",
    "    if(c==x):\n",
    "        global count\n",
    "        count=count+1\n",
    "    if(n>0):\n",
    "        digits(n,x)\n",
    "\n",
    "def num(x,l,u):\n",
    "    global count\n",
    "    if(l<u):\n",
    "        n=l\n",
    "        digits(n,x)\n",
    "        l=l+1\n",
    "        num(x,l,u)\n",
    "    else:\n",
    "        print(\"count of digit is \",count)\n",
    "\n",
    "x = int(input(\"enter a number\"))\n",
    "l = int(input(\"enter lower limit\"))\n",
    "u = int(input(\"enter a upper limit\"))\n",
    "a = num(x,l,u)\n",
    "\n"
   ]
  },
  {
   "cell_type": "code",
   "execution_count": 8,
   "metadata": {},
   "outputs": [
    {
     "name": "stdout",
     "output_type": "stream",
     "text": [
      "enter a number12\n",
      "479001600 is factorial of 12\n"
     ]
    }
   ],
   "source": [
    "def fact(n):\n",
    "    if(n<=1):\n",
    "        return 1\n",
    "    else:\n",
    "        return n*fact(n-1)\n",
    "        \n",
    "n=int(input(\"enter a number\"))\n",
    "f=fact(n)\n",
    "\n",
    "print(f,\"is factorial of\",n)\n"
   ]
  },
  {
   "cell_type": "code",
   "execution_count": 19,
   "metadata": {},
   "outputs": [
    {
     "name": "stdout",
     "output_type": "stream",
     "text": [
      "lower limit1\n",
      "upper limit10000000\n",
      "the number of palindtmes is  10998\n"
     ]
    }
   ],
   "source": [
    "#without recursion\n",
    "def countofplaindromes(i,j):\n",
    "    count = 0\n",
    "    for a in range(i,j+1):\n",
    "        d=a\n",
    "        sum=0\n",
    "        while(d!=0):\n",
    "            c=d%10\n",
    "            d=(d-c)/10\n",
    "            sum=(sum*10)+c     \n",
    "        if(sum==a):\n",
    "            count=count+1       \n",
    "    return count\n",
    "    \n",
    "i=int(input(\"lower limit\"))\n",
    "j=int(input(\"upper limit\"))    \n",
    "print(\"the number of palindromes is \" ,countofplaindromes(i,j))\n",
    "                 \n",
    "            \n",
    "        \n",
    "       \n",
    "    \n",
    "    \n",
    "    "
   ]
  },
  {
   "cell_type": "code",
   "execution_count": null,
   "metadata": {},
   "outputs": [],
   "source": []
  },
  {
   "cell_type": "code",
   "execution_count": null,
   "metadata": {},
   "outputs": [],
   "source": []
  }
 ],
 "metadata": {
  "kernelspec": {
   "display_name": "Python 3",
   "language": "python",
   "name": "python3"
  },
  "language_info": {
   "codemirror_mode": {
    "name": "ipython",
    "version": 3
   },
   "file_extension": ".py",
   "mimetype": "text/x-python",
   "name": "python",
   "nbconvert_exporter": "python",
   "pygments_lexer": "ipython3",
   "version": "3.7.3"
  }
 },
 "nbformat": 4,
 "nbformat_minor": 2
}
