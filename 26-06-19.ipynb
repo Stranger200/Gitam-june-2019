{
 "cells": [
  {
   "cell_type": "code",
   "execution_count": null,
   "metadata": {},
   "outputs": [],
   "source": [
    "#caseConversion\n",
    "\n",
    "def upperCase(n):\n",
    "    k=n.upper()\n",
    "    return k\n",
    "\n",
    "def lowerCase(n):\n",
    "    k=n.lower()\n",
    "    return k\n",
    "\n",
    "n=input(\"enter string\")\n",
    "print(upperCase(n))\n",
    "print(lowerCase(n))"
   ]
  },
  {
   "cell_type": "code",
   "execution_count": null,
   "metadata": {},
   "outputs": [],
   "source": [
    "#isUpperOrLowerOrNumericOrTitle\n",
    "\n",
    "s=\"PYTHON IS COOL\"\n",
    "s1=\"king\"\n",
    "s2=\"1234\"\n",
    "s3=\"stranger200\"\n",
    "s4=\"8135rack\"\n",
    "s5=\"Death Note\"\n",
    "s6=\" \"\n",
    "print(\"s,lower =\",s.islower())\n",
    "print(\"s1,lower =\",s1.islower())\n",
    "print(\"s,upper =\",s.isupper())\n",
    "print(\"s1,upper =\",s1.isupper())\n",
    "print(\"s,numeric=\",s.isnumeric())\n",
    "print(\"s2numeric=\",s2.isnumeric())\n",
    "print(\"s3,numeric=\",s3.isnumeric())\n",
    "print(\"s4,numeric=\",s4.isnumeric())\n",
    "print(\"s,alpha=\",s.isalpha())\n",
    "print(\"s2,alpha=\",s2.isalpha())\n",
    "print(\"s3,alpha=\",s3.isalpha())\n",
    "print(\"s4,alpha=\",s4.isalpha())\n",
    "print(\"s,title =\",s.istitle())\n",
    "print(\"s1,title =\",s1.istitle())\n",
    "print(\"s5,title =\",s5.istitle())\n",
    "print(\"s,space =\",s.isspace())\n",
    "print(\"s6,space =\",s6.isspace())\n",
    "print(\"s5,space =\",s5.isspace())"
   ]
  },
  {
   "cell_type": "code",
   "execution_count": null,
   "metadata": {},
   "outputs": [],
   "source": [
    "#joinFunction\n",
    "\n",
    "s=\"PYTHON IS COOL\"\n",
    "s1=\"king\"\n",
    "l=[\" \",\" \",\"\",\"\"]\n",
    "print(s.join(s1))\n",
    "print(s1.join(s))\n",
    "print(\";\".join(s1))\n",
    "print(\";\".join(l))"
   ]
  },
  {
   "cell_type": "code",
   "execution_count": null,
   "metadata": {},
   "outputs": [],
   "source": [
    "#splitFunction\n",
    "\n",
    "s=\"PYTHON IS COOL\"\n",
    "print(s.split(\" \"))\n",
    "s=s.split(\" \")\n",
    "print(\"\".join(s))\n",
    "s=\"\".join(s)\n",
    "print(s)"
   ]
  },
  {
   "cell_type": "code",
   "execution_count": null,
   "metadata": {},
   "outputs": [],
   "source": [
    "s=\"PYTHON IS COOL\"\n",
    "a=3\n",
    "print(s.replace(\"IS\",\"application\"))\n",
    "print(a,'he')"
   ]
  },
  {
   "cell_type": "code",
   "execution_count": null,
   "metadata": {},
   "outputs": [],
   "source": [
    "str= \"GITAMSTUDENTS\"\n",
    "print(\"str[0]=\",str[0])\n",
    "print(\"str[-1]=\",str[-1])\n",
    "print(\"st[0:5]=\",str[0:5])\n",
    "print(\"str[5:-1]=\",str[5:-1])"
   ]
  },
  {
   "cell_type": "code",
   "execution_count": null,
   "metadata": {},
   "outputs": [],
   "source": [
    "t1=(\"name\",\"class\",\"section\",12,34,35,47,187)\n",
    "print(\"t1[0]\",t1[0])\n",
    "print(\"t1[-1]\",t1[-1])\n",
    "print(\"t1[1:3]\",t1[1:3])\n",
    "print(\"t1[1:5]\",t1[1:5])\n",
    "print(\"t1[::-1]\",t1[::-1])\n",
    "print(\"t1[1:5:2]\",t1[1:5:2])\n",
    "print(\"t1[::-2]\",t1[::-2])"
   ]
  },
  {
   "cell_type": "code",
   "execution_count": null,
   "metadata": {},
   "outputs": [],
   "source": [
    "#tupleIsImmutable(RememberIt)\n",
    "#tuppleConcatination\n",
    "\n",
    "t1=(\"he\",\"zed\")\n",
    "t2=(\"no\",\"not\")\n",
    "t3=t1+t2\n",
    "t4=(1,2,3,4,5,6,7,8,9)\n",
    "print(t3)\n",
    "print(len(t3))\n",
    "print(max(t3))\n",
    "print(min(t3))\n",
    "print(max(t4))\n",
    "print(min(t4))"
   ]
  },
  {
   "cell_type": "code",
   "execution_count": null,
   "metadata": {},
   "outputs": [],
   "source": [
    "t=[1,2,3,4,5,6,7,8]\n",
    "print(t)\n",
    "t=tuple(t)\n",
    "print(t)"
   ]
  },
  {
   "cell_type": "code",
   "execution_count": null,
   "metadata": {},
   "outputs": [],
   "source": [
    "t={\"Death Note\":\"Light Yagami\",\"Code geass\":\"Lelouch vi Britnnia\",\"Fairy tail\":\"Natsu\",\"Black clover\":\"Asta\"}\n",
    "print(\"death note=\",t[\"Death Note\"])"
   ]
  },
  {
   "cell_type": "code",
   "execution_count": null,
   "metadata": {},
   "outputs": [],
   "source": [
    "user_1={'Name':'Anil','Age':29,'mobileNumber':'1111111111','eMail':'abcd@gmail.com'}\n",
    "print(user_1[\"Name\"])\n",
    "print(user_1[\"Age\"])\n",
    "print(user_1[\"eMail\"])\n",
    "print(user_1[\"mobileNumber\"])\n",
    "user_1[\"Address\"]=\"Universe_no:113576\"\n",
    "print(user_1[\"Address\"])\n",
    "del user_1[\"Address\"]\n",
    "user_1.clear()\n",
    "print(user_1)"
   ]
  },
  {
   "cell_type": "code",
   "execution_count": null,
   "metadata": {},
   "outputs": [],
   "source": [
    "user_1={'Name':'Anil','Age':29,'mobileNumber':'1111111111','eMail':'abcd@gmail.com'}\n",
    "s=str(user_1)\n",
    "print(s)"
   ]
  },
  {
   "cell_type": "code",
   "execution_count": null,
   "metadata": {},
   "outputs": [],
   "source": [
    "l=[\"python\",\"programming\"]\n",
    "print(\"%s %s\"%(l[0],l[1]))"
   ]
  },
  {
   "cell_type": "code",
   "execution_count": null,
   "metadata": {},
   "outputs": [],
   "source": [
    "l=[\"python\",\"programming\"]\n",
    "print(\"{0} {1}\".format(l[0],l[1]))"
   ]
  },
  {
   "cell_type": "code",
   "execution_count": null,
   "metadata": {},
   "outputs": [],
   "source": [
    "contact={}\n",
    "            \n",
    "def addContact(name,phone):                                             \n",
    "    if name not in contact:\n",
    "        contact[name]=phone\n",
    "        print(\"contact {0} is added\".format(name))\n",
    "    else:\n",
    "        print(\"contact {0} already exists\".format(name))\n",
    "    return contact\n",
    "\n",
    "def searchContact(name):\n",
    "    if name in contact:\n",
    "        print(\" %s :  %s \"%(name,contact[name]))\n",
    "    else:\n",
    "        print(\"%s contact unavailable\"%name)\n",
    "        \n",
    "def updateContact(name):\n",
    "     if name in contact:\n",
    "        phone=int(input(\"enter phone number\"))\n",
    "        contact[name] = phone\n",
    "        print(\" %s :  %s \"%(name,contact[name]))\n",
    "     else:\n",
    "        print(\"%s contact unavailable\"%name)\n",
    "\n",
    "def delContact(name):\n",
    "    if name in contact:\n",
    "        del contact[name]\n",
    "    else:\n",
    "        print(\"%s contact unavailable\"%name)\n",
    "    \n",
    "x=0\n",
    "c=0\n",
    "while(x!=1):\n",
    "    i=int(input(\"enter 1 to stop\\n      2 to search\\n      3 to update\\n      4 to delete\\n any other number to add a new contact\"))\n",
    "    if i==1:\n",
    "        x=1\n",
    "        break; \n",
    "    elif i==2:\n",
    "        name=input(\"enter a name\")\n",
    "        searchContact(name)\n",
    "    elif i==3:\n",
    "        name=input(\"enter a name\")\n",
    "        updateContact(name)\n",
    "    elif i==4:\n",
    "        name=input(\"enter a name\")\n",
    "        delContact(name)\n",
    "    elif(i!=1 and i!=2 and i!=3 and i!=4) :\n",
    "        name=input(\"enter a name\")\n",
    "        phone=int(input(\"enter phone number\"))\n",
    "        addContact(name,phone)\n",
    "        \n",
    "print(contact)\n",
    "    \n",
    "    "
   ]
  },
  {
   "cell_type": "code",
   "execution_count": null,
   "metadata": {},
   "outputs": [],
   "source": [
    "contact={}\n",
    "c={}\n",
    "x=0\n",
    "while(x!=1):\n",
    "    i=int(input(\"enter 1 to stop and any other number to add a new contact\"))\n",
    "    if i==1:\n",
    "        x=1\n",
    "        break;\n",
    "    else:\n",
    "        x=input(\"enter a name\")\n",
    "        y=int(input(\"enter phone number\"))\n",
    "        new={\"n\":x,\"p\":y}\n",
    "        c[x]=y\n",
    "        contact.update(c)\n",
    "print(len(contact.keys()))\n",
    "\n"
   ]
  },
  {
   "cell_type": "code",
   "execution_count": 4,
   "metadata": {},
   "outputs": [
    {
     "name": "stdout",
     "output_type": "stream",
     "text": [
      "number of numbers to be generated10\n",
      "lower limit12\n",
      "upper limit120\n",
      "21 79 12 82 38 55 63 15 107 98 "
     ]
    }
   ],
   "source": [
    "import random as r\n",
    "def randomGenerator(n,l,u):\n",
    "    for i in range(0,n):\n",
    "        print(r.randint(l,u),end=\" \")\n",
    "    return\n",
    "n=int(input(\"number of numbers to be generated\"))\n",
    "l=int(input(\"lower limit\"))\n",
    "u=int(input(\"upper limit\"))\n",
    "randomGenerator(n,l,u)"
   ]
  },
  {
   "cell_type": "code",
   "execution_count": 6,
   "metadata": {},
   "outputs": [
    {
     "name": "stdout",
     "output_type": "stream",
     "text": [
      "floor= 1234\n",
      "factorial= 402387260077093773543702433923003985719374864210714632543799910429938512398629020592044208486969404800479988610197196058631666872994808558901323829669944590997424504087073759918823627727188732519779505950995276120874975462497043601418278094646496291056393887437886487337119181045825783647849977012476632889835955735432513185323958463075557409114262417474349347553428646576611667797396668820291207379143853719588249808126867838374559731746136085379534524221586593201928090878297308431392844403281231558611036976801357304216168747609675871348312025478589320767169132448426236131412508780208000261683151027341827977704784635868170164365024153691398281264810213092761244896359928705114964975419909342221566832572080821333186116811553615836546984046708975602900950537616475847728421889679646244945160765353408198901385442487984959953319101723355556602139450399736280750137837615307127761926849034352625200015888535147331611702103968175921510907788019393178114194545257223865541461062892187960223838971476088506276862967146674697562911234082439208160153780889893964518263243671616762179168909779911903754031274622289988005195444414282012187361745992642956581746628302955570299024324153181617210465832036786906117260158783520751516284225540265170483304226143974286933061690897968482590125458327168226458066526769958652682272807075781391858178889652208164348344825993266043367660176999612831860788386150279465955131156552036093988180612138558600301435694527224206344631797460594682573103790084024432438465657245014402821885252470935190620929023136493273497565513958720559654228749774011413346962715422845862377387538230483865688976461927383814900140767310446640259899490222221765904339901886018566526485061799702356193897017860040811889729918311021171229845901641921068884387121855646124960798722908519296819372388642614839657382291123125024186649353143970137428531926649875337218940694281434118520158014123344828015051399694290153483077644569099073152433278288269864602789864321139083506217095002597389863554277196742822248757586765752344220207573630569498825087968928162753848863396909959826280956121450994871701244516461260379029309120889086942028510640182154399457156805941872748998094254742173582401063677404595741785160829230135358081840096996372524230560855903700624271243416909004153690105933983835777939410970027753472000000000000000000000000000000000000000000000000000000000000000000000000000000000000000000000000000000000000000000000000000000000000000000000000000000000000000000000000000000000000000000000000000000000000000000000000000000000000000000000000000000\n"
     ]
    }
   ],
   "source": [
    "from math import floor as fl\n",
    "from math import factorial as fa\n",
    "\n",
    "print(\"floor=\",fl(1234.9999))\n",
    "print(\"factorial=\",fa(999))"
   ]
  },
  {
   "cell_type": "code",
   "execution_count": null,
   "metadata": {},
   "outputs": [],
   "source": []
  }
 ],
 "metadata": {
  "kernelspec": {
   "display_name": "Python 3",
   "language": "python",
   "name": "python3"
  },
  "language_info": {
   "codemirror_mode": {
    "name": "ipython",
    "version": 3
   },
   "file_extension": ".py",
   "mimetype": "text/x-python",
   "name": "python",
   "nbconvert_exporter": "python",
   "pygments_lexer": "ipython3",
   "version": "3.7.3"
  }
 },
 "nbformat": 4,
 "nbformat_minor": 2
}
