{
 "cells": [
  {
   "cell_type": "code",
   "execution_count": 3,
   "metadata": {},
   "outputs": [
    {
     "name": "stdout",
     "output_type": "stream",
     "text": [
      "enter limit5\n",
      "the sum of even numbers is 6\n"
     ]
    }
   ],
   "source": [
    "s=0\n",
    "i=1\n",
    "def even(n,i):\n",
    "    if(i<=n):\n",
    "        if(i%2==0):\n",
    "            global s\n",
    "            s=s+i\n",
    "        i=i+1\n",
    "        even(n,i)\n",
    "    else:\n",
    "        print(\"the sum of even numbers is\",s)\n",
    "        \n",
    "n=int(input(\"enter limit\"))\n",
    "even(n,i)\n"
   ]
  },
  {
   "cell_type": "code",
   "execution_count": 6,
   "metadata": {},
   "outputs": [
    {
     "name": "stdout",
     "output_type": "stream",
     "text": [
      "enter a number12\n",
      "1  \n",
      "2  \n",
      "3  \n",
      "4  \n",
      "6  \n"
     ]
    }
   ],
   "source": [
    "i=1\n",
    "def fact(n,i):\n",
    "    if(i<n):\n",
    "        if(n%i==0):\n",
    "            print(i,\" \")\n",
    "        i=i+1\n",
    "        fact(n,i)       \n",
    "n=int(input(\"enter a number\"))\n",
    "fact(n,i)"
   ]
  },
  {
   "cell_type": "code",
   "execution_count": 7,
   "metadata": {},
   "outputs": [
    {
     "name": "stdout",
     "output_type": "stream",
     "text": [
      "[1, 2, 3, 4, 5]\n",
      "1\n"
     ]
    }
   ],
   "source": [
    "l1=[1,2,3,4,5]\n",
    "print(l1)\n",
    "print(l1[0])"
   ]
  },
  {
   "cell_type": "code",
   "execution_count": 8,
   "metadata": {},
   "outputs": [
    {
     "name": "stdout",
     "output_type": "stream",
     "text": [
      "2\n",
      "4\n",
      "1.6\n",
      "67\n",
      "34\n"
     ]
    }
   ],
   "source": [
    "i=[2,4,1.6,67,34]\n",
    "for n in (i):\n",
    "    print(n)"
   ]
  },
  {
   "cell_type": "code",
   "execution_count": 10,
   "metadata": {},
   "outputs": [
    {
     "name": "stdout",
     "output_type": "stream",
     "text": [
      "akhil anant aravind akash adam "
     ]
    }
   ],
   "source": [
    "list1=[\"akhil\",\"anant\",\"aravind\",\"akash\",\"adam\"]\n",
    "for n in (list1):\n",
    "    print(n,end=\" \")"
   ]
  },
  {
   "cell_type": "code",
   "execution_count": 16,
   "metadata": {},
   "outputs": [
    {
     "name": "stdout",
     "output_type": "stream",
     "text": [
      "1.6\n",
      "67\n",
      "34\n"
     ]
    }
   ],
   "source": [
    "i=[2,4,1.6,67,34]\n",
    "for n in (i[2:]):\n",
    "    print(n)"
   ]
  },
  {
   "cell_type": "code",
   "execution_count": 20,
   "metadata": {},
   "outputs": [
    {
     "name": "stdout",
     "output_type": "stream",
     "text": [
      "2\n",
      "4\n",
      "6\n",
      "8\n"
     ]
    }
   ],
   "source": [
    "for n in range(2,10,2):\n",
    "    print(n)\n",
    "    "
   ]
  },
  {
   "cell_type": "code",
   "execution_count": 21,
   "metadata": {},
   "outputs": [
    {
     "name": "stdout",
     "output_type": "stream",
     "text": [
      "2\n",
      "1.6\n",
      "34\n"
     ]
    }
   ],
   "source": [
    "i=[2,4,1.6,67,34]\n",
    "for n in (i[0::2]):\n",
    "    print(n)"
   ]
  },
  {
   "cell_type": "code",
   "execution_count": 23,
   "metadata": {},
   "outputs": [
    {
     "name": "stdout",
     "output_type": "stream",
     "text": [
      "[1, 2, 3, 4, 5, 6]\n",
      "[13, 11, 9, 7, 5, 3, 1]\n",
      "[1, 3, 5, 7, 9, 11, 13]\n",
      "[2, 3, 4, 5, 6, 7, 8, 9, 10, 11, 12]\n",
      "[13, 10, 7, 4]\n"
     ]
    }
   ],
   "source": [
    "i=[1,2,3,4,5,6,7,8,9,10,11,12,13]\n",
    "\n",
    "print(i[:6])\n",
    "print(i[::-2])\n",
    "print(i[::2])\n",
    "print(i[1:-1])\n",
    "print(i[-1:1:-3])"
   ]
  },
  {
   "cell_type": "code",
   "execution_count": 25,
   "metadata": {},
   "outputs": [
    {
     "name": "stdout",
     "output_type": "stream",
     "text": [
      "[0, 1, 2, 3, 4, 5, 6, 7, 8, 9]\n"
     ]
    }
   ],
   "source": [
    "n=list(range(10))\n",
    "print(n)"
   ]
  },
  {
   "cell_type": "code",
   "execution_count": 45,
   "metadata": {},
   "outputs": [
    {
     "name": "stdout",
     "output_type": "stream",
     "text": [
      "['anil', 'adharsh', 'akash', 12, 13, 14]\n",
      "['anil', 'adharsh', 12, 13, 14]\n",
      "12\n",
      "['anil', 'adharsh', 12, [1, 2, 3], 14]\n",
      "[1, 2, 3]\n",
      "['anil', 'adharsh', 12, [1, 2, 3], 14, 1, 6, 0]\n",
      "3\n",
      "['anil', 'adharsh', 12, [1, 2, 3], 14, 1, 6, 0, 996]\n",
      "9\n",
      "3\n",
      "1\n"
     ]
    }
   ],
   "source": [
    "lst=[\"anil\",\"adharsh\",\"akash\",12,13,14]\n",
    "print(lst)\n",
    "del lst[2]\n",
    "print(lst)\n",
    "print(lst[2])\n",
    "lst[3]=[1,2,3]\n",
    "print(lst)\n",
    "print(lst[3])\n",
    "fst=[1,6,0]\n",
    "lst=(lst+fst)\n",
    "print(lst)\n",
    "print(lst[3][2])\n",
    "lst.append(996)\n",
    "print(lst)\n",
    "print(len(lst))\n",
    "print(len(lst[3]))\n",
    "print(lst[3].count(3))"
   ]
  },
  {
   "cell_type": "code",
   "execution_count": 46,
   "metadata": {},
   "outputs": [
    {
     "name": "stdout",
     "output_type": "stream",
     "text": [
      "5\n"
     ]
    }
   ],
   "source": [
    "numbers = [1,2,3,4]\n",
    "numbers.append([5,6,7,8])\n",
    "print(len(numbers))"
   ]
  },
  {
   "cell_type": "code",
   "execution_count": 51,
   "metadata": {},
   "outputs": [
    {
     "name": "stdout",
     "output_type": "stream",
     "text": [
      "['a', 'b', 'c', 'd', 1, 3, 4, 2222]\n",
      "['a', 'b', 'c', 'd', 2222, 1, 3, 4, 2222]\n",
      "['a', 'b', 'c', 'd', 1, 3, 4, 2222]\n",
      "[2222, 4, 3, 1, 'd', 'c', 'b', 'a']\n"
     ]
    }
   ],
   "source": [
    "lst=[\"a\",\"b\",\"c\",\"d\",1,3,4,2222]\n",
    "print(lst)\n",
    "lst.insert(4,2222)\n",
    "print (lst)\n",
    "lst.remove(2222)\n",
    "print(lst)\n",
    "lst.reverse()\n",
    "print(lst)"
   ]
  },
  {
   "cell_type": "code",
   "execution_count": 2,
   "metadata": {},
   "outputs": [
    {
     "name": "stdout",
     "output_type": "stream",
     "text": [
      "enter number of elements5\n",
      "enter elements1\n",
      "enter elements2\n",
      "enter elements3\n",
      "enter elements3\n",
      "enter elements4\n",
      "enter element to be searched3\n",
      "position of the element is 2\n",
      "position of the element is 3\n",
      "the element is found in 2 positions\n"
     ]
    }
   ],
   "source": [
    "def find(lstx,s):\n",
    "    c=0\n",
    "    f=0\n",
    "    for i in (lstx):\n",
    "        if(i==s):\n",
    "            print(\"position of the element is\",c)\n",
    "            f=f+1\n",
    "        c=c+1\n",
    "    if(c>=n and f==0):\n",
    "        print(\"number not found\")\n",
    "    print(\"the element is found in\",f,\"positions\")\n",
    "\n",
    "def read(n):\n",
    "    lstx=[0]\n",
    "    lstx[0]=int(input('enter elements'))\n",
    "    for i in range(1,n):\n",
    "        e=int(input('enter elements'))\n",
    "        lstx.append(e)\n",
    "    s=int(input(\"enter element to be searched\"))\n",
    "    find(lstx,s)\n",
    "\n",
    "n=int(input(\"enter number of elements\"))\n",
    "read(n)\n",
    "\n"
   ]
  },
  {
   "cell_type": "code",
   "execution_count": 4,
   "metadata": {},
   "outputs": [
    {
     "name": "stdout",
     "output_type": "stream",
     "text": [
      "enter number of elements8\n",
      "enter elements1\n",
      "enter elements5\n",
      "enter elements9\n",
      "enter elements6\n",
      "enter elements5\n",
      "enter elements15\n",
      "enter elements12\n",
      "enter elements5\n",
      "enter element to be searched5\n",
      "!!  !!!!!  !!!!!!!!  "
     ]
    }
   ],
   "source": [
    "def ap(c):\n",
    "    for j in range(c+1):\n",
    "        print(\"!\",end=\"\")\n",
    "    print(\"  \",end=\"\")\n",
    "\n",
    "\n",
    "\n",
    "def find(lstx,s):\n",
    "    c=0\n",
    "    f=0\n",
    "    for i in (lstx):\n",
    "        if(i==s):\n",
    "            ap(c)\n",
    "            f=f+1\n",
    "        c=c+1\n",
    "    if(c>=n and f==0):\n",
    "        print(\"number not found\")\n",
    "\n",
    "def read(n):\n",
    "    lstx=[0]\n",
    "    lstx[0]=int(input('enter elements'))\n",
    "    for i in range(1,n):\n",
    "        e=int(input('enter elements'))\n",
    "        lstx.append(e)\n",
    "    s=int(input(\"enter element to be searched\"))\n",
    "    find(lstx,s)\n",
    "\n",
    "n=int(input(\"enter number of elements\"))\n",
    "read(n)\n"
   ]
  },
  {
   "cell_type": "code",
   "execution_count": 10,
   "metadata": {},
   "outputs": [
    {
     "name": "stdout",
     "output_type": "stream",
     "text": [
      "enter number of elements7\n",
      "enter elements15\n",
      "enter elements12\n",
      "enter elements2\n",
      "enter elements9\n",
      "enter elements18\n",
      "enter elements36\n",
      "enter elements45\n",
      "sum is 60\n"
     ]
    }
   ],
   "source": [
    "def find(lstx):\n",
    "    f=0\n",
    "    for i in (lstx):\n",
    "        if(i%5==0 and i%3==0):\n",
    "            f=f+i\n",
    "    if(f==0):\n",
    "        print(\"number not found\")\n",
    "    print(\"sum is\",f)\n",
    "\n",
    "def read(n):\n",
    "    lstx=[0]\n",
    "    lstx[0]=int(input('enter elements'))\n",
    "    for i in range(1,n):\n",
    "        e=int(input('enter elements'))\n",
    "        lstx.append(e)\n",
    "    find(lstx)\n",
    "\n",
    "n=int(input(\"enter number of elements\"))\n",
    "read(n)\n"
   ]
  },
  {
   "cell_type": "code",
   "execution_count": 28,
   "metadata": {},
   "outputs": [
    {
     "name": "stdout",
     "output_type": "stream",
     "text": [
      "enter number of elements5\n",
      "enter elements1\n",
      "enter elements2\n",
      "enter elements3\n",
      "enter elements4\n",
      "enter elements5\n",
      "1 3 8 15 5 "
     ]
    }
   ],
   "source": [
    "def p(lstx2):\n",
    "    for i in (lstx2):\n",
    "        print(i,end=\" \")\n",
    "def find(lstx):\n",
    "    lstx2=[]\n",
    "    for c in range(n):\n",
    "        lstx2.append(lstx[c])\n",
    "    for i in lstx[1:-1]:\n",
    "        c=lstx.index(i)\n",
    "        lstx2[c]=lstx[c-1]*lstx[c+1]\n",
    "    p(lstx2)\n",
    "def read(n):\n",
    "    lstx=[0]\n",
    "    lstx[0]=int(input('enter elements'))\n",
    "    for i in range(1,n):\n",
    "        e=int(input('enter elements'))\n",
    "        lstx.append(e)\n",
    "    find(lstx)\n",
    "n=int(input(\"enter number of elements\"))\n",
    "read(n)    \n"
   ]
  },
  {
   "cell_type": "code",
   "execution_count": 2,
   "metadata": {},
   "outputs": [
    {
     "name": "stdout",
     "output_type": "stream",
     "text": [
      "enter number of elements5\n",
      "enter elements1\n",
      "enter elements2\n",
      "enter elements3\n",
      "enter elements4\n",
      "enter elements5\n",
      "1 3 5 "
     ]
    }
   ],
   "source": [
    "\n",
    "def find(lstx):\n",
    "    lstx2=[]\n",
    "    print(lstx[0],end=\" \")\n",
    "    for i in range(1,n-2):\n",
    "        if (lstx[i-1]%2==0and lstx[i+1]%2==0):\n",
    "            print (lstx[i],end=\" \")\n",
    "    print(lstx[n-1],end=\" \")\n",
    "def read(n):\n",
    "    lstx=[0]\n",
    "    lstx[0]=int(input('enter elements'))\n",
    "    for i in range(1,n):\n",
    "        e=int(input('enter elements'))\n",
    "        lstx.append(e)\n",
    "    find(lstx)\n",
    "n=int(input(\"enter number of elements\"))\n",
    "read(n)    \n"
   ]
  },
  {
   "cell_type": "code",
   "execution_count": 11,
   "metadata": {},
   "outputs": [
    {
     "name": "stdout",
     "output_type": "stream",
     "text": [
      "enter a number1234\n",
      "[1, 2, 3, 4]\n"
     ]
    }
   ],
   "source": [
    "def lista(n):\n",
    "    l=[]\n",
    "    while(n!=0):\n",
    "        c=n%10\n",
    "        n=n//10\n",
    "        l.append(c)\n",
    "    l.reverse()\n",
    "    print(l)    \n",
    "n=int(input(\"enter a number\"))\n",
    "lista(n)\n",
    "\n",
    "    \n",
    "    "
   ]
  },
  {
   "cell_type": "code",
   "execution_count": 18,
   "metadata": {},
   "outputs": [
    {
     "name": "stdout",
     "output_type": "stream",
     "text": [
      "enter a number3\n",
      "enter elements1\n",
      "enter elements2\n",
      "enter elements3\n",
      "123\n"
     ]
    }
   ],
   "source": [
    "def read(n):\n",
    "    lstx=[0]\n",
    "    lstx[0]=int(input('enter elements'))\n",
    "    for i in range(1,n):\n",
    "        e=int(input('enter elements'))\n",
    "        lstx.append(e)\n",
    "    return (lstx)\n",
    "\n",
    "n=int(input(\"enter a number\"))\n",
    "k=read(n)\n",
    "j=n-1\n",
    "sum=0\n",
    "for i in range(n):\n",
    "    sum=sum+(k[i]*(10**(j-i)))\n",
    "\n",
    "print(sum)"
   ]
  },
  {
   "cell_type": "code",
   "execution_count": 21,
   "metadata": {},
   "outputs": [
    {
     "name": "stdout",
     "output_type": "stream",
     "text": [
      "enter a number5\n",
      "enter elements1\n",
      "enter elements2\n",
      "enter elements3\n",
      "enter elements4\n",
      "enter elements5\n",
      "24\n"
     ]
    }
   ],
   "source": [
    "def read(n):\n",
    "    lstx=[0]\n",
    "    lstx[0]=int(input('enter elements'))\n",
    "    for i in range(1,n):\n",
    "        e=int(input('enter elements'))\n",
    "        lstx.append(e)\n",
    "    return (lstx)\n",
    "\n",
    "n=int(input(\"enter a number\"))\n",
    "k=read(n)\n",
    "j=n-1\n",
    "sum=0\n",
    "c=0\n",
    "k.reverse()\n",
    "for i in range(n):\n",
    "    if(k[i]%2==0):\n",
    "        sum=sum+(k[i]*(10**(c)))\n",
    "        c=c+1\n",
    "\n",
    "print(sum)"
   ]
  },
  {
   "cell_type": "code",
   "execution_count": null,
   "metadata": {},
   "outputs": [],
   "source": [
    "def read(n):\n",
    "    lstx=[0]\n",
    "    lstx[0]=int(input('enter elements'))\n",
    "    for i in range(1,n):\n",
    "        e=int(input('enter elements'))\n",
    "        lstx.append(e)\n",
    "    return (lstx)\n",
    "\n",
    "n=int(input(\"enter a number\"))\n",
    "k=read(n)\n",
    "j=n-1\n",
    "sum=0\n",
    "c=0\n",
    "k.reverse()\n",
    "for i in range(n):\n",
    "    if(k[i]%2!=0):\n",
    "        sum=sum+(k[i]*(10**(c)))\n",
    "        c=c+1\n",
    "\n",
    "print(sum)"
   ]
  }
 ],
 "metadata": {
  "kernelspec": {
   "display_name": "Python 3",
   "language": "python",
   "name": "python3"
  }
 },
 "nbformat": 4,
 "nbformat_minor": 2
}
