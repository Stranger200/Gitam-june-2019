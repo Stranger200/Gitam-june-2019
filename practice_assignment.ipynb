{
 "cells": [
  {
   "cell_type": "code",
   "execution_count": null,
   "metadata": {},
   "outputs": [],
   "source": [
    "#power of a number\n",
    "#iterative\n",
    "\n",
    "def power(n,x):\n",
    "    a=n\n",
    "    for i in range(x-1):\n",
    "        a=a*n\n",
    "    print(\"the answer is\",a)\n",
    "y=int(input(\"enter base\"))\n",
    "x=int(input(\"enter power\"))\n",
    "power(y,x)\n",
    "        "
   ]
  },
  {
   "cell_type": "code",
   "execution_count": null,
   "metadata": {},
   "outputs": [],
   "source": [
    "#power of a number\n",
    "#recurssive\n",
    "\n",
    "def power(n,x,a,i):\n",
    "    if i< x:\n",
    "        a=a*n\n",
    "        i+=1\n",
    "        power(n,x,a,i)\n",
    "    else:\n",
    "        print(\"the answer is\",a)\n",
    "y=int(input(\"enter base\"))\n",
    "x=int(input(\"enter power\"))\n",
    "a=y\n",
    "i=1\n",
    "power(y,x,a,i)"
   ]
  },
  {
   "cell_type": "code",
   "execution_count": null,
   "metadata": {},
   "outputs": [],
   "source": [
    "#factorial\n",
    "#iterative\n",
    "\n",
    "def power(n):\n",
    "    a=1\n",
    "    for i in range(1,n+1):\n",
    "        a=a*i    \n",
    "    print(\"the answer is\",a)\n",
    "y=int(input(\"enter a number\"))\n",
    "power(y)\n"
   ]
  },
  {
   "cell_type": "code",
   "execution_count": 3,
   "metadata": {},
   "outputs": [
    {
     "name": "stdout",
     "output_type": "stream",
     "text": [
      "enter a number3\n",
      "the answer is 6\n"
     ]
    }
   ],
   "source": [
    "#factorial\n",
    "#recursive\n",
    "\n",
    "def power(n,a,i):\n",
    "    if i<=n:\n",
    "        a=a*i\n",
    "        i+=1\n",
    "        power(n,a,i)\n",
    "    else:\n",
    "        print(\"the answer is\",a)\n",
    "y=int(input(\"enter a number\"))\n",
    "a=1\n",
    "i=1\n",
    "power(y,a,i)"
   ]
  },
  {
   "cell_type": "code",
   "execution_count": 4,
   "metadata": {},
   "outputs": [
    {
     "name": "stdout",
     "output_type": "stream",
     "text": [
      "enter first number12\n",
      "enter second number9\n",
      "the gsd of given numbers is 3\n"
     ]
    }
   ],
   "source": [
    "#gcd\n",
    "#iteration\n",
    "\n",
    "def gcd(n,m):\n",
    "    if(n>=m):\n",
    "        h=n\n",
    "        i=m\n",
    "    else:\n",
    "        h=m\n",
    "        i=n\n",
    "    \n",
    "    for j in range(1,i+1):\n",
    "        if(i%j==0 and h%j==0):\n",
    "            g=j\n",
    "            \n",
    "    print(\"the gsd of given numbers is\",g)\n",
    "    \n",
    "n=int(input(\"enter first number\"))\n",
    "m=int(input(\"enter second number\"))\n",
    "gcd(n,m)"
   ]
  },
  {
   "cell_type": "code",
   "execution_count": 9,
   "metadata": {},
   "outputs": [
    {
     "name": "stdout",
     "output_type": "stream",
     "text": [
      "enter first number12\n",
      "enter second number120\n",
      "the gsd of given numbers is 12\n"
     ]
    }
   ],
   "source": [
    "#gcd\n",
    "#recurssion\n",
    "\n",
    "g=1\n",
    "def gcd(n,m,j):\n",
    "    if j<=i+1:\n",
    "        if(i%j==0 and h%j==0):\n",
    "            global g\n",
    "            g=j\n",
    "        j=j+1\n",
    "        gcd(n,m,j)        \n",
    "    else:\n",
    "        print(\"the gsd of given numbers is\",g)\n",
    "    \n",
    "n=int(input(\"enter first number\"))\n",
    "m=int(input(\"enter second number\"))\n",
    "if(n>=m):\n",
    "    h=n\n",
    "    i=m\n",
    "else:\n",
    "    h=m\n",
    "    i=n\n",
    "j=1\n",
    "gcd(h,i,j)"
   ]
  },
  {
   "cell_type": "code",
   "execution_count": 10,
   "metadata": {},
   "outputs": [
    {
     "name": "stdout",
     "output_type": "stream",
     "text": [
      "enter100\n",
      "354224848179261915075\n"
     ]
    }
   ],
   "source": [
    "#fibonacci\n",
    "#iteration\n",
    "\n",
    "def fib(n):\n",
    "    s=0\n",
    "    t=1\n",
    "    for i in range(n-1):\n",
    "        r=s+t\n",
    "        s=t\n",
    "        t=r\n",
    "    print(t)\n",
    "    \n",
    "n = int(input(\"enter\"))\n",
    "fib(n)\n"
   ]
  },
  {
   "cell_type": "code",
   "execution_count": 11,
   "metadata": {},
   "outputs": [
    {
     "name": "stdout",
     "output_type": "stream",
     "text": [
      "enter100\n",
      "354224848179261915075\n"
     ]
    }
   ],
   "source": [
    "#fibonacci\n",
    "#recurssion\n",
    "\n",
    "def fib(n,s,t,i):\n",
    "    if (i < n):\n",
    "        r=s+t\n",
    "        s=t\n",
    "        t=r\n",
    "        i=i+1\n",
    "        fib(n,s,t,i)\n",
    "    else:\n",
    "        print(t)\n",
    "    \n",
    "s=0\n",
    "t=1\n",
    "n = int(input(\"enter\"))\n",
    "i=1\n",
    "fib(n,s,t,i)"
   ]
  },
  {
   "cell_type": "code",
   "execution_count": null,
   "metadata": {},
   "outputs": [],
   "source": []
  }
 ],
 "metadata": {
  "kernelspec": {
   "display_name": "Python 3",
   "language": "python",
   "name": "python3"
  },
  "language_info": {
   "codemirror_mode": {
    "name": "ipython",
    "version": 3
   },
   "file_extension": ".py",
   "mimetype": "text/x-python",
   "name": "python",
   "nbconvert_exporter": "python",
   "pygments_lexer": "ipython3",
   "version": "3.7.3"
  }
 },
 "nbformat": 4,
 "nbformat_minor": 2
}
