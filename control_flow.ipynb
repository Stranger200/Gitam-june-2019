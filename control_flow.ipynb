{
 "cells": [
  {
   "cell_type": "code",
   "execution_count": 2,
   "metadata": {},
   "outputs": [],
   "source": [
    "#control flow staements\n",
    "\n",
    "##if(condition):\n",
    "##  set of statements\n",
    "\n"
   ]
  },
  {
   "cell_type": "code",
   "execution_count": 3,
   "metadata": {},
   "outputs": [
    {
     "name": "stdout",
     "output_type": "stream",
     "text": [
      "number less than 15\n"
     ]
    }
   ],
   "source": [
    "x=10\n",
    "if(x<15):\n",
    "    print(\"number less than 15\")"
   ]
  },
  {
   "cell_type": "code",
   "execution_count": 5,
   "metadata": {},
   "outputs": [],
   "source": [
    "##if(condition):\n",
    "##  set of statements\n",
    "##else:\n",
    "##  statements\n"
   ]
  },
  {
   "cell_type": "code",
   "execution_count": 7,
   "metadata": {},
   "outputs": [
    {
     "name": "stdout",
     "output_type": "stream",
     "text": [
      "enter first number2\n",
      "enter second number4\n",
      "4 is greater than 2\n"
     ]
    }
   ],
   "source": [
    "x = input(\"enter first number\")\n",
    "y= input(\"enter second number\")\n",
    "\n",
    "if(x>y):\n",
    "    print(x + \" is greater than \" + y)\n",
    "\n",
    "elif(x<y):\n",
    "    print(y + \" is greater than \" + x)\n",
    "    \n",
    "else:\n",
    "    print (x+\" and \"+y+\" are equal\")"
   ]
  },
  {
   "cell_type": "code",
   "execution_count": 8,
   "metadata": {},
   "outputs": [
    {
     "name": "stdout",
     "output_type": "stream",
     "text": [
      "enter first number12\n",
      "enter second number24\n",
      "the value of c is  12.0\n"
     ]
    }
   ],
   "source": [
    "x = int(input(\"enter first number\"))\n",
    "y= int(input(\"enter second number\"))\n",
    "\n",
    "if(x>y):\n",
    "    c = x/2\n",
    "\n",
    "elif(x<y):\n",
    "    c = y/2\n",
    "    \n",
    "else:\n",
    "    c = x+y\n",
    "\n",
    "print(\"the value of c is \",c)"
   ]
  },
  {
   "cell_type": "code",
   "execution_count": 10,
   "metadata": {},
   "outputs": [
    {
     "name": "stdout",
     "output_type": "stream",
     "text": [
      "enter a number12\n",
      "12 is divisible by only 3 and not 5\n"
     ]
    }
   ],
   "source": [
    "x = int(input(\"enter a number\"))\n",
    "\n",
    "if(x%3==0):\n",
    "    if(x%5==0):\n",
    "        print(x,\"is divisible by both 3 and 5\")\n",
    "    else:\n",
    "        print(x,\"is divisible by only 3 and not 5\")\n",
    "        \n",
    "elif(x%5==0):\n",
    "    print(x,\"is divisible by only 5 and not 3\")\n",
    "    \n",
    "else:\n",
    "    print(x,\"is not divisible by  3 and not 5\")\n",
    "    \n",
    "    \n",
    "        "
   ]
  },
  {
   "cell_type": "code",
   "execution_count": 14,
   "metadata": {},
   "outputs": [
    {
     "name": "stdout",
     "output_type": "stream",
     "text": [
      "enter a number153\n",
      "the digits are\n",
      "3\n",
      "5\n",
      "1\n",
      "3 number of digits\n"
     ]
    }
   ],
   "source": [
    "def digits(n):\n",
    "    count=0\n",
    "    print(\"the digits are\")\n",
    "    while(n!=0):\n",
    "        c=n%10\n",
    "        n=(n-c)//10\n",
    "        count=count+1\n",
    "        print(c)\n",
    "    return count\n",
    "x = int(input(\"enter a number\"))\n",
    "y = digits(x)\n",
    "print(y,\"number of digits\")\n",
    "\n",
    "    "
   ]
  },
  {
   "cell_type": "code",
   "execution_count": 36,
   "metadata": {},
   "outputs": [
    {
     "name": "stdout",
     "output_type": "stream",
     "text": [
      "enter a number1234\n",
      "the digits are\n",
      "4\n",
      "3\n",
      "2\n",
      "1\n",
      "4 is number of digits\n"
     ]
    }
   ],
   "source": [
    "count=0\n",
    "def digits(n,count):\n",
    "    c=n%10\n",
    "    n=(n-c)//10\n",
    "    print(c)\n",
    "    count=count+1\n",
    "    if(n>0):\n",
    "        digits(n,count)\n",
    "    else:\n",
    "        print(count,\"is number of digits\")\n",
    "x = int(input(\"enter a number\"))\n",
    "print(\"the digits are\")\n",
    "y= digits(x,count)\n"
   ]
  },
  {
   "cell_type": "code",
   "execution_count": 37,
   "metadata": {},
   "outputs": [
    {
     "name": "stdout",
     "output_type": "stream",
     "text": [
      "enter a number12\n",
      "positive\n"
     ]
    }
   ],
   "source": [
    "x = int(input(\"enter a number\"))\n",
    "\n",
    "if(x>0):\n",
    "    print(\"positive\")\n",
    "    \n",
    "elif(x<0):\n",
    "    print(\"negetive\")\n",
    "    \n",
    "else:\n",
    "    print(\"is zero\")"
   ]
  },
  {
   "cell_type": "code",
   "execution_count": 40,
   "metadata": {},
   "outputs": [
    {
     "name": "stdout",
     "output_type": "stream",
     "text": [
      "enter first limit10\n",
      "enter second limit1\n",
      "10\n",
      "9\n",
      "8\n",
      "7\n",
      "6\n",
      "5\n",
      "4\n",
      "3\n",
      "2\n",
      "1\n"
     ]
    }
   ],
   "source": [
    "l = int(input(\"enter first limit\"))\n",
    "u = int(input(\"enter second limit\"))\n",
    "\n",
    "if(l<u):\n",
    "    h=l\n",
    "    b=u\n",
    "else:\n",
    "    h=u\n",
    "    b=l\n",
    "i=b    \n",
    "while(i>=h):\n",
    "    print(i)\n",
    "    i -=1\n",
    "\n",
    "\n"
   ]
  },
  {
   "cell_type": "code",
   "execution_count": 43,
   "metadata": {},
   "outputs": [
    {
     "name": "stdout",
     "output_type": "stream",
     "text": [
      "enter first limit1\n",
      "enter second limit100\n",
      "sum of even numbers between given limits is 2550\n"
     ]
    }
   ],
   "source": [
    "l = int(input(\"enter first limit\"))\n",
    "u = int(input(\"enter second limit\"))\n",
    "\n",
    "if(l<u):\n",
    "    h=l\n",
    "    b=u\n",
    "else:\n",
    "    h=u\n",
    "    b=l\n",
    "sum=0\n",
    "i=b    \n",
    "while(i>=h):\n",
    "    if(i%2==0):\n",
    "        sum=sum+i\n",
    "    i -=1\n",
    "print(\"sum of even numbers between given limits is\",sum)\n"
   ]
  }
 ],
 "metadata": {
  "kernelspec": {
   "display_name": "Python 3",
   "language": "python",
   "name": "python3"
  },
  "language_info": {
   "codemirror_mode": {
    "name": "ipython",
    "version": 3
   },
   "file_extension": ".py",
   "mimetype": "text/x-python",
   "name": "python",
   "nbconvert_exporter": "python",
   "pygments_lexer": "ipython3",
   "version": "3.7.3"
  }
 },
 "nbformat": 4,
 "nbformat_minor": 2
}
