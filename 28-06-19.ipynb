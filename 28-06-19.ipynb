{
 "cells": [
  {
   "cell_type": "markdown",
   "metadata": {},
   "source": [
    "#### class:\n",
    "        blueprint of an object\n",
    "#### object:\n",
    "        Blue print of class or instance of class or physical entity"
   ]
  },
  {
   "cell_type": "code",
   "execution_count": null,
   "metadata": {},
   "outputs": [],
   "source": [
    "class demo:\n",
    "    def test(self):#87 65 83 68\n",
    "        print(\"test() for class and method\")\n",
    "        return\n",
    "\n",
    "\n",
    "obj=demo()\n",
    "obj.test()\n"
   ]
  },
  {
   "cell_type": "code",
   "execution_count": null,
   "metadata": {},
   "outputs": [],
   "source": [
    "#moment algorithm\n",
    "\n",
    "class v:\n",
    "    y=0\n",
    "    x=0\n",
    "    def move(self,a):\n",
    "        if a==\"w\":\n",
    "            self.y=self.y+12\n",
    "            print(self.y)\n",
    "        elif a==\"a\":\n",
    "            self.x=self.x-10\n",
    "            if self.x<0:\n",
    "                self.x=0\n",
    "            print(self.x)\n",
    "        elif a==\"s\":\n",
    "            self.y=self.y-12\n",
    "            if self.y<0:\n",
    "                self.y=0\n",
    "            print(self.y)\n",
    "        elif a==\"d\":\n",
    "            self.x=self.x+10\n",
    "            print(self.x)\n",
    "        \n",
    "            \n",
    "a=input(\"enter direction\")\n",
    "z=v()\n",
    "z.move(a)\n",
    "            "
   ]
  },
  {
   "cell_type": "code",
   "execution_count": null,
   "metadata": {},
   "outputs": [],
   "source": [
    "class demo2:\n",
    "    def fact(self,n):\n",
    "        fact=1\n",
    "        while(n!=0):\n",
    "            fact=fact*n\n",
    "            n-=1\n",
    "        return fact\n",
    "    def display(self,a,b):\n",
    "        print(\"a=\",a)\n",
    "        print(\"b=\",b)\n",
    "    def add(self,a,b):\n",
    "        c=a+b\n",
    "        print(\"c=\",c)\n",
    "        \n",
    "x=-1\n",
    "while(x!=0):\n",
    "    x=int(input(\"enter choice\"))\n",
    "    if x==1:\n",
    "        n=int(input(\"enter a number\"))\n",
    "        f=demo2()\n",
    "        print(f.fact(n))\n",
    "    elif x==2:\n",
    "        a= int(input(\"enter first number\"))\n",
    "        b=int(input(\"enter second number\"))\n",
    "        n=demo2()\n",
    "        n.display(a,b)\n",
    "    elif x==3:\n",
    "        a= int(input(\"enter first number\"))\n",
    "        b=int(input(\"enter second number\"))\n",
    "        n=demo2()\n",
    "        n.add(a,b)\n",
    "        \n",
    "        \n",
    "               "
   ]
  },
  {
   "cell_type": "code",
   "execution_count": null,
   "metadata": {},
   "outputs": [],
   "source": [
    "class person(object):\n",
    "    def __init__(self,name):\n",
    "        self.name=name\n",
    "    def getName(self):\n",
    "        return self.name\n",
    "    def isEmployee(self):\n",
    "        return False\n",
    "\n",
    "class employee(person):\n",
    "    def isEmployee(self):\n",
    "        return True\n",
    "\n",
    "name=input(\"enter name\")    \n",
    "emp=person(name)\n",
    "print(emp.getName(),emp.isEmployee())\n",
    "emp=employee(name)\n",
    "print(emp.getName(),emp.isEmployee())"
   ]
  },
  {
   "cell_type": "markdown",
   "metadata": {},
   "source": [
    "### Python Numpy:\n",
    "\n",
    "Numpy arrays are a bit like python lists.\n",
    "\n",
    "Numpy array is a central data structure of numpy lib.\n",
    "\n",
    "This library is a short for \"numeric python\" or \"numerical python\".\n",
    "\n",
    "##### shape:\n",
    "\n",
    "           used to know dimentions of array\n",
    "           \n",
    "##### dtype:\n",
    "\n",
    "           used to print data type of array\n",
    "           \n",
    "##### reshape:\n",
    "\n",
    "           used change dimensions of array\n",
    "           \n",
    "           cannot be uset to change to dimentions smaller than number of elements\n",
    "           \n",
    "##### hstack:\n",
    "            \n",
    "            to append elements horizontally\n",
    "            \n",
    "##### vstack:\n",
    " \n",
    "            to append elements vertically\n",
    "            \n",
    "            \n",
    "##### other important functions:\n",
    "            np.random.normal(a,b,c)\n",
    "            \n",
    "            generates using gaussian distribution\n",
    "            \n",
    "            a=normal/mean\n",
    "            \n",
    "            b=difference\n",
    "            \n",
    "            c=number of numbers\n",
    "            \n",
    "            \n",
    "            \n",
    "            \n",
    "            np.zeros((rows,columns),dtype=np.datatype)\n",
    "            \n",
    "            \n",
    "            \n",
    "            \n",
    "            \n",
    "            np.asarray(array_name)[rownumber][columnnumber]=number to be used to replace\n",
    "            \n",
    "            if you skip columnnumber the whole row changes\n",
    "            \n",
    "            \n",
    "            \n",
    "            \n",
    "            \n",
    "            np.arrange(start,end,step)\n",
    "            \n",
    "            \n",
    "            \n",
    "            min ---- returns least number\n",
    "            max ---- returns highest number\n",
    "            mean---- returns mean\n",
    "            median-- returns median\n",
    "            \n",
    "            \n",
    "            \n",
    "            \n",
    "            np.dot(x,y)-----gives dot product of 2 arrays\n",
    "            \n"
   ]
  },
  {
   "cell_type": "code",
   "execution_count": null,
   "metadata": {},
   "outputs": [],
   "source": [
    "import numpy as np\n",
    "lst=([(1,2,3),(2,6,7)])\n",
    "p=np.array(lst)\n",
    "print(p)\n",
    "k=p.reshape(3,2)\n",
    "print(k)\n",
    "print(p.shape)\n",
    "print(p.dtype)"
   ]
  },
  {
   "cell_type": "code",
   "execution_count": null,
   "metadata": {},
   "outputs": [],
   "source": [
    "import numpy as np\n",
    "l=np.random.normal(4,0.1,3)\n",
    "print(l)"
   ]
  },
  {
   "cell_type": "code",
   "execution_count": null,
   "metadata": {},
   "outputs": [],
   "source": [
    "import numpy as np\n",
    "l=np.zeros((3,3),dtype=np.int64)\n",
    "print(l)"
   ]
  },
  {
   "cell_type": "code",
   "execution_count": null,
   "metadata": {},
   "outputs": [],
   "source": [
    "import numpy as np\n",
    "l=np.ones((4,4),dtype=np.int64)\n",
    "np.asarray(l)[-1]=6\n",
    "print(l)"
   ]
  },
  {
   "cell_type": "code",
   "execution_count": null,
   "metadata": {},
   "outputs": [],
   "source": [
    "import numpy as np\n",
    "l=np.ones((4,4),dtype=np.int64)\n",
    "np.asarray(l)[-1][0]=6\n",
    "print(l)"
   ]
  },
  {
   "cell_type": "code",
   "execution_count": null,
   "metadata": {},
   "outputs": [],
   "source": [
    "import numpy as np\n",
    "l=np.ones((4,4),dtype=np.int64)\n",
    "np.asarray(l)[::2]=6\n",
    "print(l)"
   ]
  },
  {
   "cell_type": "code",
   "execution_count": null,
   "metadata": {},
   "outputs": [],
   "source": [
    "import numpy as np\n",
    "l=np.ones((4,4),dtype=np.int64)\n",
    "np.asarray(l)[:2]=6\n",
    "print(l)"
   ]
  },
  {
   "cell_type": "code",
   "execution_count": null,
   "metadata": {},
   "outputs": [],
   "source": [
    "import numpy as np\n",
    "l=np.ones((4,4),dtype=np.int64)\n",
    "np.asarray(l)[:,-1]=6\n",
    "print(l)"
   ]
  },
  {
   "cell_type": "code",
   "execution_count": null,
   "metadata": {},
   "outputs": [],
   "source": [
    "import numpy as np\n",
    "l=np.ones((9,9),dtype=np.int64)\n",
    "np.asarray(l)[::2,::2]=6\n",
    "np.asarray(l)[1::2,1::2]=6\n",
    "print(l)"
   ]
  },
  {
   "cell_type": "code",
   "execution_count": null,
   "metadata": {},
   "outputs": [],
   "source": [
    "import numpy as np\n",
    "print(np.arange(1,100,10))"
   ]
  },
  {
   "cell_type": "code",
   "execution_count": null,
   "metadata": {},
   "outputs": [],
   "source": [
    "import numpy as np\n",
    "a1=np.array([(1,2,3),(4,5,6)])\n",
    "print(\"Slicing Column = \",a1[:,1])"
   ]
  },
  {
   "cell_type": "code",
   "execution_count": null,
   "metadata": {},
   "outputs": [],
   "source": [
    "import numpy as np\n",
    "a1=np.array([(1,2,3),(4,5,6)])\n",
    "print(\"Slicing Column = \",a1[1:,0])"
   ]
  },
  {
   "cell_type": "code",
   "execution_count": null,
   "metadata": {},
   "outputs": [],
   "source": [
    "import numpy as np\n",
    "a1=np.array([(1,2,3),(4,5,6)])\n",
    "print(\"min value=\",np.min(a1))\n",
    "print(\"max value=\",np.max(a1))\n",
    "print(\"mean value=\",np.mean(a1))\n",
    "print(\"median value=\",np.median(a1))"
   ]
  },
  {
   "cell_type": "code",
   "execution_count": null,
   "metadata": {},
   "outputs": [],
   "source": [
    "import numpy as np\n",
    "c1=np.array([(1j,2j),(1j,2j)])\n",
    "c2=np.array(1)\n",
    "\n",
    "print(np.dot(c1,c2))\n"
   ]
  },
  {
   "cell_type": "code",
   "execution_count": null,
   "metadata": {},
   "outputs": [],
   "source": [
    "import numpy as np\n",
    "c1=np.array([(1j,2j),(1j,2j)])\n",
    "c2=np.array(1)\n",
    "\n",
    "print(np.matmul(c1,c2))\n"
   ]
  },
  {
   "cell_type": "markdown",
   "metadata": {},
   "source": [
    "##### pandas baics:\n",
    "         python is one of the popular programming language for data analysis\n",
    "         python is offering the lib\n",
    "         \n",
    "         pd.DataFrame(list)\n",
    "         to generate a data frame\n",
    "         \n",
    "         .index=[\"indexes\"]\n",
    "         to change indexes"
   ]
  },
  {
   "cell_type": "code",
   "execution_count": null,
   "metadata": {},
   "outputs": [],
   "source": [
    "import pandas as pd\n",
    "d = {\"Name\":[\"Lelouch vi britannia\",\"Light Yagami\",\"Luffy\",\"Saitama\"],\"Anime\":[\"Code geass\",\"Death note\",\"One piece\",\"One punch Man\"],\"Alter-ego\":[\"Zero\",\"Kira\",\"Straw hat kid\",\"Caped baldy\"]}\n",
    "print(d)"
   ]
  },
  {
   "cell_type": "code",
   "execution_count": null,
   "metadata": {},
   "outputs": [],
   "source": [
    "import pandas as pd\n",
    "d = {\"Name\":[\"Lelouch vi britannia\",\"Light Yagami\",\"Luffy\",\"Saitama\"],\"Anime\":[\"Code geass\",\"Death note\",\"One piece\",\"One punch Man\"],\"Alter-ego\":[\"Zero\",\"Kira\",\"Straw hat kid\",\"Caped baldy\"]}\n",
    "b=pd.DataFrame(d)\n",
    "b.index=[\"01\",\"02\",\"03\",\"04\"]\n",
    "print(b)"
   ]
  },
  {
   "cell_type": "code",
   "execution_count": null,
   "metadata": {},
   "outputs": [],
   "source": [
    "import pandas as pd\n",
    "a=[]\n",
    "b=[]\n",
    "c=[]\n",
    "\n",
    "di={\"name\":a,\"email\":b,\"contact\":c}\n",
    "n=int(input(\"enter number of people\"))\n",
    "for i in range(n):\n",
    "    e=input(\"enter person's name\")\n",
    "    a.append(e)\n",
    "    e=input(\"enter person's email\")\n",
    "    b.append(e)\n",
    "    e=input(\"enter person's number\")\n",
    "    c.append(e)\n",
    "    \n",
    "p=pd.DataFrame(di)\n",
    "print(p)\n"
   ]
  },
  {
   "cell_type": "code",
   "execution_count": null,
   "metadata": {},
   "outputs": [],
   "source": [
    "import pandas as pd\n",
    "a=[\"0\",\"1\",\"2\",\"3\",\"4\",\"5\",\"6\",\"7\",\"8\",\"9\"]\n",
    "b=[\"0\",\"0\",\"0\",\"0\",\"0\",\"0\",\"0\",\"0\",\"0\",\"0\"]\n",
    "g={\"numbers\":a,\"count\":b}\n",
    "t=input(\"enter string\")\n",
    "lst=list(t)\n",
    "print(lst)\n",
    "for e in lst:\n",
    "    if e.isnumeric():\n",
    "        a.append(e)\n",
    "        b.append(e)\n",
    "print(g)\n",
    "df=pd.DataFrame(g)\n",
    "print(df.groupby(['numbers']).count()-1)\n"
   ]
  },
  {
   "cell_type": "code",
   "execution_count": null,
   "metadata": {},
   "outputs": [],
   "source": []
  }
 ],
 "metadata": {
  "kernelspec": {
   "display_name": "Python 3",
   "language": "python",
   "name": "python3"
  },
  "language_info": {
   "codemirror_mode": {
    "name": "ipython",
    "version": 3
   },
   "file_extension": ".py",
   "mimetype": "text/x-python",
   "name": "python",
   "nbconvert_exporter": "python",
   "pygments_lexer": "ipython3",
   "version": "3.7.3"
  }
 },
 "nbformat": 4,
 "nbformat_minor": 2
}
