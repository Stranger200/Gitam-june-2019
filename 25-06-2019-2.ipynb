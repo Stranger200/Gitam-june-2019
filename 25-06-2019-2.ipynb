{
 "cells": [
  {
   "cell_type": "code",
   "execution_count": 3,
   "metadata": {},
   "outputs": [
    {
     "name": "stdout",
     "output_type": "stream",
     "text": [
      "enter a stringAtom $123\n",
      "aTOM $123"
     ]
    }
   ],
   "source": [
    "#case conversion\n",
    "def cuc(s):\n",
    "    c=0\n",
    "    k=[]\n",
    "    l=list(s)\n",
    "    for x in range(len(l)):\n",
    "        if ord(l[x])>=65 and ord(l[x])<=90:\n",
    "            l[x]=ord(l[x])+32\n",
    "            k.append(chr(l[x]))\n",
    "        elif ord(l[x])>=97 and ord(l[x])<=122:\n",
    "            l[x]=ord(l[x])-32\n",
    "            k.append(chr(l[x]))\n",
    "        else:\n",
    "            k.append(l[x])\n",
    "    for x in range(len(k)):\n",
    "        print(k[x],end=\"\")\n",
    "s=input(\"enter a string\")\n",
    "cuc(s)"
   ]
  },
  {
   "cell_type": "code",
   "execution_count": 4,
   "metadata": {},
   "outputs": [
    {
     "name": "stdout",
     "output_type": "stream",
     "text": [
      "enter a stringAtom is tiny\n",
      "enter the word number2\n",
      "\u0000IS"
     ]
    }
   ],
   "source": [
    "#convert specific word to capital\n",
    "\n",
    "def cuc(s,n):\n",
    "    c=0\n",
    "    k=[]\n",
    "    l=list(s)\n",
    "    f=0\n",
    "    fl=0\n",
    "    for x in range(len(l)):\n",
    "        if ord(l[x])==32 :\n",
    "            f=f+1\n",
    "        if f==n-1 or fl==1:\n",
    "            fl==1\n",
    "            l[x]=ord(l[x])-32\n",
    "            k.append(chr(l[x]))\n",
    "        if f==n:\n",
    "            break\n",
    "    for x in range(len(k)):\n",
    "        print(k[x],end=\"\")\n",
    "            \n",
    "s=input(\"enter a string\")\n",
    "n=int(input(\"enter the word number\"))\n",
    "cuc(s,n)"
   ]
  },
  {
   "cell_type": "code",
   "execution_count": null,
   "metadata": {},
   "outputs": [],
   "source": []
  }
 ],
 "metadata": {
  "kernelspec": {
   "display_name": "Python 3",
   "language": "python",
   "name": "python3"
  },
  "language_info": {
   "codemirror_mode": {
    "name": "ipython",
    "version": 3
   },
   "file_extension": ".py",
   "mimetype": "text/x-python",
   "name": "python",
   "nbconvert_exporter": "python",
   "pygments_lexer": "ipython3",
   "version": "3.7.3"
  }
 },
 "nbformat": 4,
 "nbformat_minor": 2
}
