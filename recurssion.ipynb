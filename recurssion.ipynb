{
 "cells": [
  {
   "cell_type": "code",
   "execution_count": 1,
   "metadata": {},
   "outputs": [
    {
     "name": "stdout",
     "output_type": "stream",
     "text": [
      "enter first limit1\n",
      "enter second limit100\n",
      "sum of even numbers between given limits is 2550\n"
     ]
    }
   ],
   "source": [
    "#with recurssion\n",
    "def sum(h,i,s):\n",
    "    if(i>=h):\n",
    "        if(i%2==0):\n",
    "            s=s+i\n",
    "        i -=1\n",
    "        sum(h,i,s)\n",
    "    else:\n",
    "        print(\"sum of even numbers between given limits is\",s)\n",
    "        \n",
    "         \n",
    "l = int(input(\"enter first limit\"))\n",
    "u = int(input(\"enter second limit\"))\n",
    "\n",
    "if(l<u):\n",
    "    h=l\n",
    "    b=u\n",
    "else:\n",
    "    h=u\n",
    "    b=l\n",
    "s=0\n",
    "i=b \n",
    "sum(h,i,s)\n"
   ]
  },
  {
   "cell_type": "code",
   "execution_count": 5,
   "metadata": {},
   "outputs": [
    {
     "name": "stdout",
     "output_type": "stream",
     "text": [
      "enter a number1234\n",
      "6 is sum of all digits\n"
     ]
    }
   ],
   "source": [
    "#without recurssion\n",
    "\n",
    "def digits(n):\n",
    "    count=0\n",
    "    while(n!=0):\n",
    "        c=n%10\n",
    "        n=(n-c)//10\n",
    "        if(c%2==0):\n",
    "            count=count+c\n",
    "    return count\n",
    "x = int(input(\"enter a number\"))\n",
    "y = digits(x)\n",
    "print(y,\"is sum of even digits\")\n",
    "\n"
   ]
  },
  {
   "cell_type": "code",
   "execution_count": 7,
   "metadata": {},
   "outputs": [
    {
     "name": "stdout",
     "output_type": "stream",
     "text": [
      "enter a number1234\n",
      "6 is sum of even digits\n"
     ]
    }
   ],
   "source": [
    "#with recursion\n",
    "count=0\n",
    "def digits(n,count):\n",
    "    c=n%10\n",
    "    n=(n-c)//10\n",
    "    if(c%2==0):\n",
    "        count=count+c\n",
    "    if(n>0):\n",
    "        digits(n,count)\n",
    "    else:\n",
    "        print(count,\"is sum of even digits\")\n",
    "x = int(input(\"enter a number\"))\n",
    "y= digits(x,count)\n"
   ]
  },
  {
   "cell_type": "code",
   "execution_count": 11,
   "metadata": {},
   "outputs": [
    {
     "name": "stdout",
     "output_type": "stream",
     "text": [
      "enter number of elements3\n",
      "ënter a number1\n",
      "ënter a number2\n",
      "ënter a number3\n",
      "the sum is 6\n"
     ]
    }
   ],
   "source": [
    "#without reccursion\n",
    "\n",
    "size=int(input(\"enter number of elements\"))\n",
    "s=0\n",
    "while (size>0):\n",
    "    n=int(input(\"ënter a number\"))\n",
    "    s=s+n\n",
    "    size=size-1\n",
    "print(\"the sum is\",s)\n"
   ]
  },
  {
   "cell_type": "code",
   "execution_count": 14,
   "metadata": {},
   "outputs": [
    {
     "name": "stdout",
     "output_type": "stream",
     "text": [
      "enter number of elements3\n",
      "ënter a number1\n",
      "ënter a number2\n",
      "ënter a number3\n",
      "the sum is 6\n"
     ]
    }
   ],
   "source": [
    "#with reccursion\n",
    "\n",
    "def sum(size,s):\n",
    "    if (size>0):\n",
    "        n=int(input(\"ënter a number\"))\n",
    "        s=s+n\n",
    "        size=size-1\n",
    "        sum(size,s)\n",
    "    else:\n",
    "        print(\"the sum is\",s)\n",
    "\n",
    "\n",
    "size=int(input(\"enter number of elements\"))\n",
    "s=0\n",
    "j=sum(size,s)"
   ]
  },
  {
   "cell_type": "code",
   "execution_count": 22,
   "metadata": {},
   "outputs": [
    {
     "name": "stdout",
     "output_type": "stream",
     "text": [
      "enter a number120\n",
      "the digits are\n",
      "zero\n",
      "two\n",
      "one\n"
     ]
    }
   ],
   "source": [
    "#without reccursion\n",
    "\n",
    "def digits(n):\n",
    "    print(\"the digits are\")\n",
    "    while(n!=0):\n",
    "        c=n%10\n",
    "        n=(n-c)//10\n",
    "        if(c==1):\n",
    "            print(\"one\")\n",
    "        elif(c==2):\n",
    "            print(\"two\")\n",
    "        elif(c==3):\n",
    "            print(\"three\")\n",
    "        elif(c==4):\n",
    "            print(\"four\")\n",
    "        elif(c==5):\n",
    "            print(\"five\")\n",
    "        elif(c==6):\n",
    "            print(\"six\")\n",
    "        elif(c==7):\n",
    "            print(\"seven\")\n",
    "        elif(c==8):\n",
    "            print(\"eight\")\n",
    "        elif(c==9):\n",
    "            print(\"nine\")\n",
    "        elif(c==0):\n",
    "            print(\"zero\")\n",
    "    \n",
    "x = int(input(\"enter a number\"))\n",
    "y = digits(x)\n"
   ]
  },
  {
   "cell_type": "code",
   "execution_count": 23,
   "metadata": {},
   "outputs": [
    {
     "name": "stdout",
     "output_type": "stream",
     "text": [
      "enter a number120\n",
      "the digits are\n",
      "zero\n",
      "two\n",
      "one\n"
     ]
    }
   ],
   "source": [
    "#with reccursion\n",
    "\n",
    "def digits(n):\n",
    "    c=n%10\n",
    "    n=(n-c)//10\n",
    "    if(c==1):\n",
    "        print(\"one\")\n",
    "    elif(c==2):\n",
    "        print(\"two\")\n",
    "    elif(c==3):\n",
    "        print(\"three\")\n",
    "    elif(c==4):\n",
    "        print(\"four\")\n",
    "    elif(c==5):\n",
    "        print(\"five\")\n",
    "    elif(c==6):\n",
    "        print(\"six\")\n",
    "    elif(c==7):\n",
    "        print(\"seven\")\n",
    "    elif(c==8):\n",
    "        print(\"eight\")\n",
    "    elif(c==9):\n",
    "        print(\"nine\")\n",
    "    elif(c==0):\n",
    "        print(\"zero\")\n",
    "    if(n>0):\n",
    "        digits(n)\n",
    "     \n",
    "x = int(input(\"enter a number\"))\n",
    "print(\"the digits are\")\n",
    "y= digits(x)\n"
   ]
  },
  {
   "cell_type": "code",
   "execution_count": 26,
   "metadata": {},
   "outputs": [
    {
     "name": "stdout",
     "output_type": "stream",
     "text": [
      "enter limit5\n",
      "sum of even numbers below limit is 6\n"
     ]
    }
   ],
   "source": [
    "#without reccursion\n",
    "def sum(limit):\n",
    "    i=0\n",
    "    s=0\n",
    "    for i in range(limit+1):\n",
    "        if (i%2==0):\n",
    "            s=s+i\n",
    "    print(\"sum of even numbers below limit is\",s)\n",
    "    \n",
    "\n",
    "limit=int(input(\"enter limit\"))\n",
    "sum(limit)"
   ]
  },
  {
   "cell_type": "code",
   "execution_count": 28,
   "metadata": {},
   "outputs": [
    {
     "name": "stdout",
     "output_type": "stream",
     "text": [
      "enter limit4\n",
      "sum of even numbers below limit is 6\n"
     ]
    }
   ],
   "source": [
    "def sum(limit,i,s):\n",
    "    if (i<limit+1):\n",
    "        if (i%2==0):\n",
    "            s=s+i\n",
    "        i=i+1\n",
    "        sum(limit,i,s)\n",
    "    else:\n",
    "        print(\"sum of even numbers below limit is\",s)\n",
    "    \n",
    "\n",
    "limit=int(input(\"enter limit\"))\n",
    "i=0\n",
    "s=0\n",
    "sum(limit,i,s)"
   ]
  },
  {
   "cell_type": "code",
   "execution_count": 42,
   "metadata": {},
   "outputs": [
    {
     "name": "stdout",
     "output_type": "stream",
     "text": [
      "enter a number6\n",
      "enter lower limit60\n",
      "enter a upper limit65\n",
      "5 is number of the digit 6\n"
     ]
    }
   ],
   "source": [
    "def digits(x,n,count):\n",
    "    while(n!=0):\n",
    "        c=n%10\n",
    "        n=(n-c)//10\n",
    "        if(c==x):\n",
    "            count=count+1\n",
    "    return count\n",
    "x = int(input(\"enter a number\"))\n",
    "l = int(input(\"enter lower limit\"))\n",
    "u = int(input(\"enter a upper limit\"))\n",
    "count=0\n",
    "y=count\n",
    "for i in range(l,u):\n",
    "    y = digits(x,i,y)\n",
    "\n",
    "print(y,\"is number of the digit\",x)\n"
   ]
  },
  {
   "cell_type": "code",
   "execution_count": null,
   "metadata": {},
   "outputs": [],
   "source": [
    "\n"
   ]
  },
  {
   "cell_type": "code",
   "execution_count": null,
   "metadata": {},
   "outputs": [],
   "source": []
  }
 ],
 "metadata": {
  "kernelspec": {
   "display_name": "Python 3",
   "language": "python",
   "name": "python3"
  },
  "language_info": {
   "codemirror_mode": {
    "name": "ipython",
    "version": 3
   },
   "file_extension": ".py",
   "mimetype": "text/x-python",
   "name": "python",
   "nbconvert_exporter": "python",
   "pygments_lexer": "ipython3",
   "version": "3.7.3"
  }
 },
 "nbformat": 4,
 "nbformat_minor": 2
}
