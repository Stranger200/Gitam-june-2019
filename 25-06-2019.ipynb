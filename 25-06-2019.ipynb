{
 "cells": [
  {
   "cell_type": "code",
   "execution_count": null,
   "metadata": {},
   "outputs": [],
   "source": [
    "#binary search\n",
    "l=[]\n",
    "def read(l,n):\n",
    "    for i in range(n):\n",
    "        e=int(input(\"enter an element\"))\n",
    "        l.append(e)\n",
    "    \n",
    "def search(s,l):\n",
    "    lo=0\n",
    "    u=n-1\n",
    "    i=1\n",
    "    f=0\n",
    "    while(i<=u):\n",
    "        i=(lo+(u-lo)//2)\n",
    "        if (s==l[i]):\n",
    "                print(\"the position is\",i)\n",
    "                f=1\n",
    "                break\n",
    "        elif (l[i]<s):\n",
    "            lo=i+1\n",
    "        else:\n",
    "            u=i+1\n",
    "        if(lo>=u and f==0):\n",
    "            print(\"the number not found\")\n",
    "            break\n",
    "            \n",
    "            \n",
    "n=int(input(\"enter number of elements\"))\n",
    "read(l,n)\n",
    "s=int(input(\"enter target element\"))\n",
    "search(s,l)\n"
   ]
  },
  {
   "cell_type": "code",
   "execution_count": null,
   "metadata": {},
   "outputs": [],
   "source": [
    "#Bubble sort\n",
    "\n",
    "l=[]\n",
    "def read(l,n):\n",
    "    for i in range(n):\n",
    "        e=int(input(\"enter an element\"))\n",
    "        l.append(e)\n",
    "    print(\"input=\",l)\n",
    "def sort(l,n):\n",
    "    for i in range(n):\n",
    "        for j in range(n-i):\n",
    "            if l[j]>l[j+1]:\n",
    "                l[j],l[j+1]=l[j+1],l[j]\n",
    "    print(\"output=\",l)\n",
    "        \n",
    "n=int(input(\"enter number of elements\"))\n",
    "read(l,n)\n",
    "sort(l,n-1)"
   ]
  },
  {
   "cell_type": "code",
   "execution_count": null,
   "metadata": {},
   "outputs": [],
   "source": [
    "#binary search\n",
    "#bubble sort\n",
    "\n",
    "l=[]\n",
    "def read(l,n):\n",
    "    for i in range(n):\n",
    "        e=int(input(\"enter an element\"))\n",
    "        l.append(e)\n",
    "    print(\"input=\",l)\n",
    "def sort(l,n):\n",
    "    for i in range(n):\n",
    "        for j in range(n-i):\n",
    "            if l[j]>l[j+1]:\n",
    "                l[j],l[j+1]=l[j+1],l[j]\n",
    "    print(\"output=\",l)\n",
    "def search(s,l):\n",
    "    lo=0\n",
    "    u=n-1\n",
    "    i=1\n",
    "    f=0\n",
    "    while(i<=u):\n",
    "        i=(lo+(u-lo)//2)\n",
    "        if (s==l[i]):\n",
    "                print(\"the position is\",i)\n",
    "                f=1\n",
    "                break\n",
    "        elif (l[i]<s):\n",
    "            lo=i+1\n",
    "        else:\n",
    "            u=i+1\n",
    "        if(lo>=u and f==0):\n",
    "            print(\"the number not found\")\n",
    "            break\n",
    "        \n",
    "n=int(input(\"enter number of elements\"))\n",
    "read(l,n)\n",
    "sort(l,n-1)\n",
    "s=int(input(\"enter target element\"))\n",
    "search(s,l)"
   ]
  },
  {
   "cell_type": "code",
   "execution_count": null,
   "metadata": {},
   "outputs": [],
   "source": [
    "#pre-defined sort\n",
    "l=[]\n",
    "def read(l,n):\n",
    "    for i in range(n):\n",
    "        e=int(input(\"enter an element\"))\n",
    "        l.append(e)\n",
    "    print(\"input=\",l)\n",
    "    \n",
    "n=int(input(\"enter number of elements\"))\n",
    "read(l,n)\n",
    "\n",
    "l.sort()\n",
    "\n",
    "print(\"output=\",l)\n"
   ]
  },
  {
   "cell_type": "code",
   "execution_count": null,
   "metadata": {},
   "outputs": [],
   "source": [
    "#strings\n",
    "\n",
    "s1=\"hello\"\n",
    "s2='Hello'\n",
    "s3=\"\"\"strings\n",
    "        in python\n",
    "      work\"\"\"\n",
    "\n",
    "print(s1)\n",
    "print(s2)\n",
    "print(s3)\n"
   ]
  },
  {
   "cell_type": "code",
   "execution_count": null,
   "metadata": {},
   "outputs": [],
   "source": [
    "s=input(\"enter a string\")\n",
    "print(\"s[0]=\",s[0])\n",
    "print(\"s[-1]=\",s[-1])\n",
    "print(\"s[1:6]=\",s[1:6])\n",
    "print(\"s[:6]=\",s[:6])\n",
    "print(\"s[::2]=\",s[::2])\n",
    "print(\"s[1:-1]=\",s[1:-1])\n",
    "print(\"s[::-1]=\",s[::-1])"
   ]
  },
  {
   "cell_type": "code",
   "execution_count": null,
   "metadata": {},
   "outputs": [],
   "source": [
    "def pal(s):\n",
    "    if s==s[::-1]:\n",
    "        print(\"is a palindrome\")\n",
    "    else:\n",
    "        print(\"not palindrome\")\n",
    "s=input(\"enter a string\")\n",
    "pal(s)"
   ]
  },
  {
   "cell_type": "code",
   "execution_count": null,
   "metadata": {},
   "outputs": [],
   "source": [
    "# string len function\n",
    "\n",
    "def count(n):\n",
    "    return(len(str(n)))\n",
    "n=int(input(\"enter a number\"))\n",
    "f=count(n)\n",
    "\n",
    "print(f)"
   ]
  },
  {
   "cell_type": "code",
   "execution_count": null,
   "metadata": {},
   "outputs": [],
   "source": [
    "#isupper()\n",
    "def countuc(s):\n",
    "    c=0\n",
    "    for i in s:\n",
    "        if i.isupper():\n",
    "            c=c+1\n",
    "            print(i,end=\"\")\n",
    "    return c\n",
    "\n",
    "s=input(\"enter a string\")\n",
    "print(countuc(s))"
   ]
  },
  {
   "cell_type": "code",
   "execution_count": null,
   "metadata": {},
   "outputs": [],
   "source": [
    "#islower()\n",
    "def countuc(s):\n",
    "    c=0\n",
    "    for i in s:\n",
    "        if i.islower():\n",
    "            c=c+1\n",
    "            print(i,end=\"\")\n",
    "    return c\n",
    "\n",
    "s=input(\"enter a string\")\n",
    "print(countuc(s))"
   ]
  },
  {
   "cell_type": "code",
   "execution_count": null,
   "metadata": {},
   "outputs": [],
   "source": [
    "def size(s):\n",
    "    #l=list(s)\n",
    "    return len(s)\n",
    "s=input(\"enter a string\")\n",
    "print(size(s))"
   ]
  },
  {
   "cell_type": "code",
   "execution_count": null,
   "metadata": {},
   "outputs": [],
   "source": [
    "# counting upper case without predefined stuff\n",
    "\n",
    "def cuc(s):\n",
    "    c=0\n",
    "    l=list(s)\n",
    "    for x in range(len(l)):\n",
    "        if ord(l[x])>=65 and ord(l[x])<=90:\n",
    "            c=c+1\n",
    "            print(x,end=\"\")\n",
    "    return c\n",
    "\n",
    "s=input(\"enter a string\")\n",
    "print(cuc(s))\n"
   ]
  },
  {
   "cell_type": "code",
   "execution_count": null,
   "metadata": {},
   "outputs": [],
   "source": [
    "# counting digits without predefined stuff\n",
    "def dig(s):\n",
    "    c=0\n",
    "    l=list(s)\n",
    "    for x in range(len(l)):\n",
    "        if ord(l[x])>=48 and ord(l[x])<=57:\n",
    "            c=c+1\n",
    "            print(x,end=\"\")\n",
    "    return c\n",
    "\n",
    "s=input(\"enter a string\")\n",
    "print(dig(s))"
   ]
  },
  {
   "cell_type": "code",
   "execution_count": null,
   "metadata": {},
   "outputs": [],
   "source": [
    "#isnumeric()\n",
    "def countuc(s):\n",
    "    c=0\n",
    "    for i in s:\n",
    "        if i.isnumeric():\n",
    "            c=c+1\n",
    "            print(i,end=\"\")\n",
    "    return c\n",
    "\n",
    "s=input(\"enter a string\")\n",
    "print(countuc(s))"
   ]
  },
  {
   "cell_type": "code",
   "execution_count": null,
   "metadata": {},
   "outputs": [],
   "source": []
  }
 ],
 "metadata": {
  "kernelspec": {
   "display_name": "Python 3",
   "language": "python",
   "name": "python3"
  },
  "language_info": {
   "codemirror_mode": {
    "name": "ipython",
    "version": 3
   },
   "file_extension": ".py",
   "mimetype": "text/x-python",
   "name": "python",
   "nbconvert_exporter": "python",
   "pygments_lexer": "ipython3",
   "version": "3.7.3"
  }
 },
 "nbformat": 4,
 "nbformat_minor": 2
}
