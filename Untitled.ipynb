{
 "cells": [
  {
   "cell_type": "code",
   "execution_count": 12,
   "metadata": {},
   "outputs": [
    {
     "name": "stdout",
     "output_type": "stream",
     "text": [
      "enter base2\n",
      "enter power2\n",
      "the answer is 4\n"
     ]
    }
   ],
   "source": [
    "#power of a number\n",
    "#iterative\n",
    "\n",
    "def power(n,x):\n",
    "    a=n\n",
    "    for i in range(x-1):\n",
    "        a=a*n\n",
    "    print(\"the answer is\",a)\n",
    "y=int(input(\"enter base\"))\n",
    "x=int(input(\"enter power\"))\n",
    "power(y,x)\n",
    "        "
   ]
  },
  {
   "cell_type": "code",
   "execution_count": 11,
   "metadata": {},
   "outputs": [
    {
     "name": "stdout",
     "output_type": "stream",
     "text": [
      "enter base5\n",
      "enter power50\n",
      "the answer is 88817841970012523233890533447265625\n"
     ]
    }
   ],
   "source": [
    "#power of a number\n",
    "#recurssive\n",
    "\n",
    "def power(n,x,a,i):\n",
    "    if i< x:\n",
    "        a=a*n\n",
    "        i+=1\n",
    "        power(n,x,a,i)\n",
    "    else:\n",
    "        print(\"the answer is\",a)\n",
    "y=int(input(\"enter base\"))\n",
    "x=int(input(\"enter power\"))\n",
    "a=y\n",
    "i=1\n",
    "power(y,x,a,i)"
   ]
  },
  {
   "cell_type": "code",
   "execution_count": 22,
   "metadata": {},
   "outputs": [
    {
     "name": "stdout",
     "output_type": "stream",
     "text": [
      "enter base5\n",
      "the answer is 120\n"
     ]
    }
   ],
   "source": [
    "#factorial\n",
    "#iterative\n",
    "\n",
    "def power(n):\n",
    "    a=1\n",
    "    for i in range(1,n+1):\n",
    "        a=a*i    \n",
    "    print(\"the answer is\",a)\n",
    "y=int(input(\"enter a number\"))\n",
    "power(y)\n"
   ]
  },
  {
   "cell_type": "code",
   "execution_count": null,
   "metadata": {},
   "outputs": [],
   "source": []
  },
  {
   "cell_type": "code",
   "execution_count": null,
   "metadata": {},
   "outputs": [],
   "source": []
  }
 ],
 "metadata": {
  "kernelspec": {
   "display_name": "Python 3",
   "language": "python",
   "name": "python3"
  },
  "language_info": {
   "codemirror_mode": {
    "name": "ipython",
    "version": 3
   },
   "file_extension": ".py",
   "mimetype": "text/x-python",
   "name": "python",
   "nbconvert_exporter": "python",
   "pygments_lexer": "ipython3",
   "version": "3.7.3"
  }
 },
 "nbformat": 4,
 "nbformat_minor": 2
}
